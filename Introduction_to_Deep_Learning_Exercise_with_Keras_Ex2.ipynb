{
  "nbformat": 4,
  "nbformat_minor": 0,
  "metadata": {
    "colab": {
      "name": "Introduction to Deep Learning Exercise with Keras Ex2.ipynb",
      "provenance": [],
      "include_colab_link": true
    },
    "kernelspec": {
      "name": "python3",
      "display_name": "Python 3"
    },
    "accelerator": "GPU"
  },
  "cells": [
    {
      "cell_type": "markdown",
      "metadata": {
        "id": "view-in-github",
        "colab_type": "text"
      },
      "source": [
        "<a href=\"https://colab.research.google.com/github/Pupan-cpe/trian-I-net/blob/master/Introduction_to_Deep_Learning_Exercise_with_Keras_Ex2.ipynb\" target=\"_parent\"><img src=\"https://colab.research.google.com/assets/colab-badge.svg\" alt=\"Open In Colab\"/></a>"
      ]
    },
    {
      "cell_type": "code",
      "metadata": {
        "id": "yGsSNC07CSlA",
        "colab_type": "code",
        "colab": {
          "base_uri": "https://localhost:8080/",
          "height": 353
        },
        "outputId": "1cfce7e4-626e-4120-84a5-9ac1b77e80d5"
      },
      "source": [
        "!nvidia-smi"
      ],
      "execution_count": 1,
      "outputs": [
        {
          "output_type": "stream",
          "text": [
            "Tue Sep 22 09:57:38 2020       \n",
            "+-----------------------------------------------------------------------------+\n",
            "| NVIDIA-SMI 450.66       Driver Version: 418.67       CUDA Version: 10.1     |\n",
            "|-------------------------------+----------------------+----------------------+\n",
            "| GPU  Name        Persistence-M| Bus-Id        Disp.A | Volatile Uncorr. ECC |\n",
            "| Fan  Temp  Perf  Pwr:Usage/Cap|         Memory-Usage | GPU-Util  Compute M. |\n",
            "|                               |                      |               MIG M. |\n",
            "|===============================+======================+======================|\n",
            "|   0  Tesla K80           Off  | 00000000:00:04.0 Off |                    0 |\n",
            "| N/A   68C    P8    73W / 149W |      0MiB / 11441MiB |      0%      Default |\n",
            "|                               |                      |                 ERR! |\n",
            "+-------------------------------+----------------------+----------------------+\n",
            "                                                                               \n",
            "+-----------------------------------------------------------------------------+\n",
            "| Processes:                                                                  |\n",
            "|  GPU   GI   CI        PID   Type   Process name                  GPU Memory |\n",
            "|        ID   ID                                                   Usage      |\n",
            "|=============================================================================|\n",
            "|  No running processes found                                                 |\n",
            "+-----------------------------------------------------------------------------+\n"
          ],
          "name": "stdout"
        }
      ]
    },
    {
      "cell_type": "code",
      "metadata": {
        "id": "9eh5LOXUCcD4",
        "colab_type": "code",
        "colab": {}
      },
      "source": [
        "# Import necessary functions\n",
        "from __future__ import print_function\n",
        "import matplotlib.pyplot as plt\n",
        "import pdb\n",
        "import numpy as np"
      ],
      "execution_count": 2,
      "outputs": []
    },
    {
      "cell_type": "code",
      "metadata": {
        "id": "3IHzlSy9CdDQ",
        "colab_type": "code",
        "colab": {}
      },
      "source": [
        "# TensorFlow 1x\n",
        "# import keras\n",
        "# from keras.datasets import mnist\n",
        "# from keras.layers import Dense, Dropout, Flatten, Activation, Conv2D, MaxPooling2D, Input\n",
        "# from keras.models import Model\n",
        "# from keras import backend as K\n",
        "\n",
        "# TensorFlow 2x\n",
        "import tensorflow.keras as keras\n",
        "from tensorflow.keras.datasets import cifar10\n",
        "from tensorflow.keras.layers import Dense, Dropout, Flatten, Activation, Conv2D, MaxPooling2D, Input\n",
        "from tensorflow.keras import Model"
      ],
      "execution_count": 3,
      "outputs": []
    },
    {
      "cell_type": "code",
      "metadata": {
        "id": "ISu3QbTaCeBG",
        "colab_type": "code",
        "colab": {}
      },
      "source": [
        "def network_C(input_shape):\n",
        "    input_data = Input(shape=input_shape)\n",
        "    x = Conv2D(8, kernel_size=(3, 3), activation='relu', padding='same')(input_data)\n",
        "    x = Flatten()(x)\n",
        "    x = Dense(16, activation='relu')(x)\n",
        "    output_data = Dense(10, activation='softmax')(x)\n",
        "    model = Model(inputs=input_data, outputs=output_data)\n",
        "    return model"
      ],
      "execution_count": 4,
      "outputs": []
    },
    {
      "cell_type": "code",
      "metadata": {
        "id": "uE4XYGFqCkfi",
        "colab_type": "code",
        "colab": {}
      },
      "source": [
        "def network_D(input_shape):\n",
        "    input_data = Input(shape=input_shape)\n",
        "    x = Conv2D(8, kernel_size=(3, 3), activation='relu', padding='same')(input_data)  \n",
        "    x = Conv2D(64, kernel_size=(3, 3), activation='relu', padding='same')(x)\n",
        "    x = Conv2D(64, kernel_size=(3, 3), activation='relu', padding='same')(x)\n",
        "    x = MaxPooling2D(pool_size=(2, 2))(x)\n",
        "    x = Dropout(0.5)(x)\n",
        "    x = Flatten()(x)\n",
        "    x = Dense(16, activation='relu')(x)\n",
        "    x = Dropout(0.5)(x)\n",
        "    output_data = Dense(10, activation='softmax')(x)\n",
        "    model = Model(inputs=input_data, outputs=output_data)\n",
        "    return model"
      ],
      "execution_count": 5,
      "outputs": []
    },
    {
      "cell_type": "code",
      "metadata": {
        "id": "Fp0hp37sCo4j",
        "colab_type": "code",
        "colab": {}
      },
      "source": [
        "# Specify parameters\n",
        "batch_size = 128\n",
        "num_classes = 10\n",
        "epochs = 50\n",
        "# Specify input image dimensions\n",
        "img_rows, img_cols = 32, 32"
      ],
      "execution_count": 6,
      "outputs": []
    },
    {
      "cell_type": "code",
      "metadata": {
        "id": "XTssCu-6CqDO",
        "colab_type": "code",
        "colab": {
          "base_uri": "https://localhost:8080/",
          "height": 84
        },
        "outputId": "b4592cf8-e290-40f9-e90d-19796295419d"
      },
      "source": [
        "# Split data into training/test data\n",
        "(x_train, y_train), (x_test, y_test) = cifar10.load_data()\n",
        "print('x_train shape:', x_train.shape)\n",
        "print('y_train shape:', y_train.shape)\n",
        "print('x_test shape:', x_test.shape)\n",
        "print('y_test shape:', y_test.shape)\n",
        "# pdb.set_trace()"
      ],
      "execution_count": 7,
      "outputs": [
        {
          "output_type": "stream",
          "text": [
            "x_train shape: (50000, 32, 32, 3)\n",
            "y_train shape: (50000, 1)\n",
            "x_test shape: (10000, 32, 32, 3)\n",
            "y_test shape: (10000, 1)\n"
          ],
          "name": "stdout"
        }
      ]
    },
    {
      "cell_type": "code",
      "metadata": {
        "id": "SfW_awo3CsEQ",
        "colab_type": "code",
        "colab": {
          "base_uri": "https://localhost:8080/",
          "height": 84
        },
        "outputId": "d35f75a8-32ed-4f0f-8a2c-1ae102dbc25b"
      },
      "source": [
        "# Reformat the data\n",
        "x_train = x_train.reshape(x_train.shape[0], img_rows, img_cols, 3)\n",
        "x_test = x_test.reshape(x_test.shape[0], img_rows, img_cols, 3)\n",
        "input_shape = (img_rows, img_cols, 3)\n",
        "\n",
        "print('x_train shape:', x_train.shape)\n",
        "print(x_train.shape[0], 'train samples')\n",
        "print(x_test.shape[0], 'test samples')\n",
        "print('y_train shape:', y_train.shape)\n",
        "# pdb.set_trace()"
      ],
      "execution_count": 8,
      "outputs": [
        {
          "output_type": "stream",
          "text": [
            "x_train shape: (50000, 32, 32, 3)\n",
            "50000 train samples\n",
            "10000 test samples\n",
            "y_train shape: (50000, 1)\n"
          ],
          "name": "stdout"
        }
      ]
    },
    {
      "cell_type": "code",
      "metadata": {
        "id": "WhRJAbYNCw5v",
        "colab_type": "code",
        "colab": {
          "base_uri": "https://localhost:8080/",
          "height": 266
        },
        "outputId": "52a66ab5-7d90-4c99-db6c-57e172f01c7e"
      },
      "source": [
        "# Preprocess the data\n",
        "x_train = x_train.astype('float32')\n",
        "x_test = x_test.astype('float32')\n",
        "x_train /= 255\n",
        "x_test /= 255\n",
        "\n",
        "plt.figure(1)\n",
        "plt.imshow(np.squeeze(x_train[108,:,:,:]))\n",
        "plt.show()"
      ],
      "execution_count": 9,
      "outputs": [
        {
          "output_type": "display_data",
          "data": {
            "image/png": "[encoded data removed]",
            "text/plain": [
              "<Figure size 432x288 with 1 Axes>"
            ]
          },
          "metadata": {
            "tags": [],
            "needs_background": "light"
          }
        }
      ]
    },
    {
      "cell_type": "code",
      "metadata": {
        "id": "g5qk771oCyu0",
        "colab_type": "code",
        "colab": {
          "base_uri": "https://localhost:8080/",
          "height": 34
        },
        "outputId": "d04233ee-0782-4731-fea2-c5857b0b22c1"
      },
      "source": [
        "# Convert the integer-encoding to one-hot encoding\n",
        "y_train = keras.utils.to_categorical(y_train, num_classes)\n",
        "y_test = keras.utils.to_categorical(y_test, num_classes)\n",
        "\n",
        "print('y_train shape:', y_train.shape)\n",
        "# pdb.set_trace()"
      ],
      "execution_count": 10,
      "outputs": [
        {
          "output_type": "stream",
          "text": [
            "y_train shape: (50000, 10)\n"
          ],
          "name": "stdout"
        }
      ]
    },
    {
      "cell_type": "code",
      "metadata": {
        "id": "DTo8dzR9C3Of",
        "colab_type": "code",
        "colab": {}
      },
      "source": [
        "####### To be completed: Create and compile a model #######\n",
        "model = network_C(input_shape)\n",
        "\n",
        "########################################################\n",
        "model.compile(loss=keras.losses.categorical_crossentropy,\n",
        "              optimizer=keras.optimizers.Adam(),\n",
        "              metrics=['accuracy'])"
      ],
      "execution_count": 11,
      "outputs": []
    },
    {
      "cell_type": "code",
      "metadata": {
        "id": "NmxfyWxRC_lK",
        "colab_type": "code",
        "colab": {
          "base_uri": "https://localhost:8080/",
          "height": 319
        },
        "outputId": "7ece8536-1f10-447a-b05e-8623dac1b9d4"
      },
      "source": [
        "model.summary()\n",
        "# pdb.set_trace()"
      ],
      "execution_count": 12,
      "outputs": [
        {
          "output_type": "stream",
          "text": [
            "Model: \"functional_1\"\n",
            "_________________________________________________________________\n",
            "Layer (type)                 Output Shape              Param #   \n",
            "=================================================================\n",
            "input_1 (InputLayer)         [(None, 32, 32, 3)]       0         \n",
            "_________________________________________________________________\n",
            "conv2d (Conv2D)              (None, 32, 32, 8)         224       \n",
            "_________________________________________________________________\n",
            "flatten (Flatten)            (None, 8192)              0         \n",
            "_________________________________________________________________\n",
            "dense (Dense)                (None, 16)                131088    \n",
            "_________________________________________________________________\n",
            "dense_1 (Dense)              (None, 10)                170       \n",
            "=================================================================\n",
            "Total params: 131,482\n",
            "Trainable params: 131,482\n",
            "Non-trainable params: 0\n",
            "_________________________________________________________________\n"
          ],
          "name": "stdout"
        }
      ]
    },
    {
      "cell_type": "code",
      "metadata": {
        "id": "Zmt90nY-DC4C",
        "colab_type": "code",
        "colab": {
          "base_uri": "https://localhost:8080/",
          "height": 1000
        },
        "outputId": "9994ff13-eb0c-4105-c023-9c0611084dd6"
      },
      "source": [
        "history = model.fit(x_train, y_train,\n",
        "          batch_size=batch_size,\n",
        "          epochs=epochs,\n",
        "          verbose=1,\n",
        "          validation_data=(x_test, y_test))"
      ],
      "execution_count": 13,
      "outputs": [
        {
          "output_type": "stream",
          "text": [
            "Epoch 1/50\n",
            "391/391 [==============================] - 3s 8ms/step - loss: 1.8981 - accuracy: 0.3136 - val_loss: 1.5985 - val_accuracy: 0.4244\n",
            "Epoch 2/50\n",
            "391/391 [==============================] - 3s 8ms/step - loss: 1.5327 - accuracy: 0.4484 - val_loss: 1.4919 - val_accuracy: 0.4510\n",
            "Epoch 3/50\n",
            "391/391 [==============================] - 3s 8ms/step - loss: 1.4526 - accuracy: 0.4775 - val_loss: 1.4512 - val_accuracy: 0.4749\n",
            "Epoch 4/50\n",
            "391/391 [==============================] - 3s 7ms/step - loss: 1.4018 - accuracy: 0.4950 - val_loss: 1.4171 - val_accuracy: 0.4858\n",
            "Epoch 5/50\n",
            "391/391 [==============================] - 3s 7ms/step - loss: 1.3683 - accuracy: 0.5086 - val_loss: 1.4067 - val_accuracy: 0.4953\n",
            "Epoch 6/50\n",
            "391/391 [==============================] - 3s 7ms/step - loss: 1.3414 - accuracy: 0.5169 - val_loss: 1.4148 - val_accuracy: 0.4909\n",
            "Epoch 7/50\n",
            "391/391 [==============================] - 3s 7ms/step - loss: 1.3173 - accuracy: 0.5275 - val_loss: 1.4126 - val_accuracy: 0.4971\n",
            "Epoch 8/50\n",
            "391/391 [==============================] - 3s 7ms/step - loss: 1.2988 - accuracy: 0.5362 - val_loss: 1.3800 - val_accuracy: 0.5063\n",
            "Epoch 9/50\n",
            "391/391 [==============================] - 3s 7ms/step - loss: 1.2777 - accuracy: 0.5439 - val_loss: 1.3590 - val_accuracy: 0.5143\n",
            "Epoch 10/50\n",
            "391/391 [==============================] - 3s 7ms/step - loss: 1.2646 - accuracy: 0.5501 - val_loss: 1.3661 - val_accuracy: 0.5127\n",
            "Epoch 11/50\n",
            "391/391 [==============================] - 3s 7ms/step - loss: 1.2439 - accuracy: 0.5555 - val_loss: 1.3578 - val_accuracy: 0.5186\n",
            "Epoch 12/50\n",
            "391/391 [==============================] - 3s 7ms/step - loss: 1.2281 - accuracy: 0.5615 - val_loss: 1.3642 - val_accuracy: 0.5149\n",
            "Epoch 13/50\n",
            "391/391 [==============================] - 3s 7ms/step - loss: 1.2151 - accuracy: 0.5649 - val_loss: 1.3510 - val_accuracy: 0.5194\n",
            "Epoch 14/50\n",
            "391/391 [==============================] - 3s 7ms/step - loss: 1.2057 - accuracy: 0.5702 - val_loss: 1.3497 - val_accuracy: 0.5197\n",
            "Epoch 15/50\n",
            "391/391 [==============================] - 3s 7ms/step - loss: 1.1883 - accuracy: 0.5763 - val_loss: 1.3487 - val_accuracy: 0.5239\n",
            "Epoch 16/50\n",
            "391/391 [==============================] - 3s 8ms/step - loss: 1.1757 - accuracy: 0.5789 - val_loss: 1.3297 - val_accuracy: 0.5289\n",
            "Epoch 17/50\n",
            "391/391 [==============================] - 3s 8ms/step - loss: 1.1635 - accuracy: 0.5868 - val_loss: 1.3276 - val_accuracy: 0.5333\n",
            "Epoch 18/50\n",
            "391/391 [==============================] - 3s 8ms/step - loss: 1.1513 - accuracy: 0.5894 - val_loss: 1.3326 - val_accuracy: 0.5282\n",
            "Epoch 19/50\n",
            "391/391 [==============================] - 3s 7ms/step - loss: 1.1436 - accuracy: 0.5919 - val_loss: 1.3574 - val_accuracy: 0.5230\n",
            "Epoch 20/50\n",
            "391/391 [==============================] - 3s 7ms/step - loss: 1.1306 - accuracy: 0.5963 - val_loss: 1.3211 - val_accuracy: 0.5375\n",
            "Epoch 21/50\n",
            "391/391 [==============================] - 3s 7ms/step - loss: 1.1198 - accuracy: 0.5990 - val_loss: 1.3127 - val_accuracy: 0.5358\n",
            "Epoch 22/50\n",
            "391/391 [==============================] - 3s 7ms/step - loss: 1.1128 - accuracy: 0.6003 - val_loss: 1.3387 - val_accuracy: 0.5275\n",
            "Epoch 23/50\n",
            "391/391 [==============================] - 3s 7ms/step - loss: 1.1016 - accuracy: 0.6070 - val_loss: 1.3351 - val_accuracy: 0.5284\n",
            "Epoch 24/50\n",
            "391/391 [==============================] - 3s 7ms/step - loss: 1.0922 - accuracy: 0.6076 - val_loss: 1.3289 - val_accuracy: 0.5362\n",
            "Epoch 25/50\n",
            "391/391 [==============================] - 3s 7ms/step - loss: 1.0843 - accuracy: 0.6131 - val_loss: 1.3161 - val_accuracy: 0.5368\n",
            "Epoch 26/50\n",
            "391/391 [==============================] - 3s 7ms/step - loss: 1.0753 - accuracy: 0.6173 - val_loss: 1.3262 - val_accuracy: 0.5342\n",
            "Epoch 27/50\n",
            "391/391 [==============================] - 3s 7ms/step - loss: 1.0683 - accuracy: 0.6170 - val_loss: 1.3138 - val_accuracy: 0.5377\n",
            "Epoch 28/50\n",
            "391/391 [==============================] - 3s 7ms/step - loss: 1.0679 - accuracy: 0.6172 - val_loss: 1.3449 - val_accuracy: 0.5278\n",
            "Epoch 29/50\n",
            "391/391 [==============================] - 3s 7ms/step - loss: 1.0586 - accuracy: 0.6186 - val_loss: 1.3219 - val_accuracy: 0.5343\n",
            "Epoch 30/50\n",
            "391/391 [==============================] - 3s 7ms/step - loss: 1.0521 - accuracy: 0.6227 - val_loss: 1.3280 - val_accuracy: 0.5337\n",
            "Epoch 31/50\n",
            "391/391 [==============================] - 3s 7ms/step - loss: 1.0467 - accuracy: 0.6255 - val_loss: 1.3216 - val_accuracy: 0.5362\n",
            "Epoch 32/50\n",
            "391/391 [==============================] - 3s 7ms/step - loss: 1.0394 - accuracy: 0.6260 - val_loss: 1.3234 - val_accuracy: 0.5378\n",
            "Epoch 33/50\n",
            "391/391 [==============================] - 3s 7ms/step - loss: 1.0337 - accuracy: 0.6292 - val_loss: 1.3371 - val_accuracy: 0.5324\n",
            "Epoch 34/50\n",
            "391/391 [==============================] - 3s 7ms/step - loss: 1.0287 - accuracy: 0.6293 - val_loss: 1.3551 - val_accuracy: 0.5253\n",
            "Epoch 35/50\n",
            "391/391 [==============================] - 3s 7ms/step - loss: 1.0184 - accuracy: 0.6341 - val_loss: 1.3509 - val_accuracy: 0.5338\n",
            "Epoch 36/50\n",
            "391/391 [==============================] - 3s 7ms/step - loss: 1.0151 - accuracy: 0.6347 - val_loss: 1.3361 - val_accuracy: 0.5314\n",
            "Epoch 37/50\n",
            "391/391 [==============================] - 3s 8ms/step - loss: 1.0125 - accuracy: 0.6371 - val_loss: 1.3389 - val_accuracy: 0.5318\n",
            "Epoch 38/50\n",
            "391/391 [==============================] - 3s 8ms/step - loss: 1.0064 - accuracy: 0.6372 - val_loss: 1.3541 - val_accuracy: 0.5309\n",
            "Epoch 39/50\n",
            "391/391 [==============================] - 3s 7ms/step - loss: 0.9967 - accuracy: 0.6410 - val_loss: 1.3557 - val_accuracy: 0.5316\n",
            "Epoch 40/50\n",
            "391/391 [==============================] - 3s 7ms/step - loss: 0.9989 - accuracy: 0.6423 - val_loss: 1.3801 - val_accuracy: 0.5278\n",
            "Epoch 41/50\n",
            "391/391 [==============================] - 3s 7ms/step - loss: 0.9907 - accuracy: 0.6446 - val_loss: 1.3859 - val_accuracy: 0.5281\n",
            "Epoch 42/50\n",
            "391/391 [==============================] - 3s 7ms/step - loss: 0.9895 - accuracy: 0.6439 - val_loss: 1.3811 - val_accuracy: 0.5298\n",
            "Epoch 43/50\n",
            "391/391 [==============================] - 3s 7ms/step - loss: 0.9812 - accuracy: 0.6473 - val_loss: 1.3536 - val_accuracy: 0.5301\n",
            "Epoch 44/50\n",
            "391/391 [==============================] - 3s 7ms/step - loss: 0.9818 - accuracy: 0.6473 - val_loss: 1.3673 - val_accuracy: 0.5328\n",
            "Epoch 45/50\n",
            "391/391 [==============================] - 3s 7ms/step - loss: 0.9744 - accuracy: 0.6498 - val_loss: 1.3605 - val_accuracy: 0.5354\n",
            "Epoch 46/50\n",
            "391/391 [==============================] - 3s 7ms/step - loss: 0.9712 - accuracy: 0.6498 - val_loss: 1.3657 - val_accuracy: 0.5283\n",
            "Epoch 47/50\n",
            "391/391 [==============================] - 3s 7ms/step - loss: 0.9692 - accuracy: 0.6506 - val_loss: 1.4016 - val_accuracy: 0.5302\n",
            "Epoch 48/50\n",
            "391/391 [==============================] - 3s 7ms/step - loss: 0.9602 - accuracy: 0.6553 - val_loss: 1.3890 - val_accuracy: 0.5319\n",
            "Epoch 49/50\n",
            "391/391 [==============================] - 3s 7ms/step - loss: 0.9584 - accuracy: 0.6539 - val_loss: 1.3800 - val_accuracy: 0.5238\n",
            "Epoch 50/50\n",
            "391/391 [==============================] - 3s 7ms/step - loss: 0.9523 - accuracy: 0.6564 - val_loss: 1.3934 - val_accuracy: 0.5321\n"
          ],
          "name": "stdout"
        }
      ]
    },
    {
      "cell_type": "code",
      "metadata": {
        "id": "L4J9kaBkDFNi",
        "colab_type": "code",
        "colab": {
          "base_uri": "https://localhost:8080/",
          "height": 67
        },
        "outputId": "b5a118a5-557f-48c6-886b-9d8385cc99a0"
      },
      "source": [
        "score = model.evaluate(x_test, y_test, verbose=0)\n",
        "\n",
        "print('Test loss:', score[0])\n",
        "print('Test accuracy:', score[1])\n",
        "\n",
        "# list all data in history\n",
        "print(history.history.keys())"
      ],
      "execution_count": 14,
      "outputs": [
        {
          "output_type": "stream",
          "text": [
            "Test loss: 1.3933939933776855\n",
            "Test accuracy: 0.5321000218391418\n",
            "dict_keys(['loss', 'accuracy', 'val_loss', 'val_accuracy'])\n"
          ],
          "name": "stdout"
        }
      ]
    },
    {
      "cell_type": "code",
      "metadata": {
        "id": "m9Nk34qTDLLJ",
        "colab_type": "code",
        "colab": {
          "base_uri": "https://localhost:8080/",
          "height": 295
        },
        "outputId": "68249cf6-5771-40d3-c053-52fd4ea0b5c9"
      },
      "source": [
        "# summarize history for loss\n",
        "plt.figure(2)\n",
        "plt.plot(history.history['loss'])\n",
        "plt.plot(history.history['val_loss'])\n",
        "plt.title('model loss')\n",
        "plt.ylabel('loss')\n",
        "plt.xlabel('epoch')\n",
        "plt.legend(['train', 'test'], loc='upper left')\n",
        "plt.show()"
      ],
      "execution_count": 15,
      "outputs": [
        {
          "output_type": "display_data",
          "data": {
            "image/png": "[encoded data removed]",
            "text/plain": [
              "<Figure size 432x288 with 1 Axes>"
            ]
          },
          "metadata": {
            "tags": [],
            "needs_background": "light"
          }
        }
      ]
    },
    {
      "cell_type": "code",
      "metadata": {
        "id": "2_20CL1dDI09",
        "colab_type": "code",
        "colab": {
          "base_uri": "https://localhost:8080/",
          "height": 312
        },
        "outputId": "500d0dec-1a47-423f-ef62-98e979df7ac9"
      },
      "source": [
        "# summarize history for accuracy\n",
        "plt.figure(1)\n",
        "plt.plot(history.history['accuracy'])\n",
        "plt.plot(history.history['val_accuracy'])\n",
        "plt.title('model accuracy')\n",
        "plt.ylabel('accuracy')\n",
        "plt.xlabel('epoch')\n",
        "plt.legend(['train', 'test'], loc='upper left')"
      ],
      "execution_count": 16,
      "outputs": [
        {
          "output_type": "execute_result",
          "data": {
            "text/plain": [
              "<matplotlib.legend.Legend at 0x7f9e50258f60>"
            ]
          },
          "metadata": {
            "tags": []
          },
          "execution_count": 16
        },
        {
          "output_type": "display_data",
          "data": {
            "image/png": "[encoded data removed]",
            "text/plain": [
              "<Figure size 432x288 with 1 Axes>"
            ]
          },
          "metadata": {
            "tags": [],
            "needs_background": "light"
          }
        }
      ]
    }
  ]
}